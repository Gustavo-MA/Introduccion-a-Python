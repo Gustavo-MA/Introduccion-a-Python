{
 "cells": [
  {
   "cell_type": "code",
   "execution_count": null,
   "metadata": {},
   "outputs": [],
   "source": [
    "\n",
    "import numpy as np\n",
    "import matplotlib.pyplot as plt #paquete para graficar datos\n",
    "import pandas as pd\n",
    "from sklearn.metrics import mean_squared_error # este paquete también se conoce como scikit_learn\n",
    "#se utiliza el módulo de regresión lineal del paquete scikit_learn\n",
    "from sklearn.linear_model import LinearRegression \n",
    "\n",
    "#ecuación de segundo grado\n",
    "x=10*np.random.normal(0,1,65)\n",
    "y=10*(-x**2)+np.random.normal(-100,100,65)\n",
    "\n",
    "lm=LinearRegression()\n",
    "lm.fit(x.reshape(-1,1),y.reshape(-1,1))\n",
    "y_pred=lm.predict(x.reshape(-1,1))\n",
    "plt.figure(figsize=(10,5))\n",
    "plt.scatter(x,y,s=15)\n",
    "plt.plot(x,y_pred,color='r')\n",
    "plt.xlabel('Predicción',fontsize=16)\n",
    "plt.ylabel('Predicción',fontsize=16)\n",
    "plt.show()"
   ]
  }
 ],
 "metadata": {
  "kernelspec": {
   "display_name": "Python 3.8.10 64-bit",
   "language": "python",
   "name": "python3"
  },
  "language_info": {
   "name": "python",
   "version": "3.8.10"
  },
  "orig_nbformat": 4,
  "vscode": {
   "interpreter": {
    "hash": "916dbcbb3f70747c44a77c7bcd40155683ae19c65e1c03b4aa3499c5328201f1"
   }
  }
 },
 "nbformat": 4,
 "nbformat_minor": 2
}
