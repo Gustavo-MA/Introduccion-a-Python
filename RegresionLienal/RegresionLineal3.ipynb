{
 "cells": [
  {
   "cell_type": "code",
   "execution_count": null,
   "metadata": {},
   "outputs": [],
   "source": [
    "import numpy as np\n",
    "import matplotlib.pyplot as plt #paquete para graficar datos\n",
    "import pandas as pd\n",
    "from sklearn.metrics import mean_squared_error \n",
    "#se utiliza el módulo de regresión lineal del paquete scikit_learn\n",
    "from sklearn.linear_model import LinearRegression \n",
    "\n",
    "# este paquete también se conoce como scikit_learn\n",
    "from sklearn.preprocessing import PolynomialFeatures\n",
    "from sklearn.pipeline import Pipeline\n",
    "\n",
    "#ecuación de segundo grado\n",
    "x=10*np.random.normal(0,1,65)\n",
    "y=10*(-x**2)+np.random.normal(-100,100,65)\n",
    "\n",
    "lm=LinearRegression()\n",
    "lm.fit(x.reshape(-1,1),y.reshape(-1,1))\n",
    "y_pred=lm.predict(x.reshape(-1,1))\n",
    "#plt.figure(figsize=(10,5))\n",
    "#plt.scatter(x,y,s=15)\n",
    "#plt.plot(x,y_pred,color='r')\n",
    "#plt.xlabel('Predicción',fontsize=16)\n",
    "#plt.ylabel('Predicción',fontsize=16)\n",
    "#plt.show()\n",
    "\n",
    "# se establece que la ecuación es de segundo grado.\n",
    "Input=[('polynomial',PolynomialFeatures(degree=2)),('modal',LinearRegression())]\n",
    "pipe=Pipeline(Input)\n",
    "pipe.fit(x.reshape(-1,1),y.reshape(-1,1))\n",
    "poly_pred=pipe.predict(x.reshape(-1,1))\n",
    "sorted_zip = sorted(zip(x,poly_pred))\n",
    "x_poly, poly_pred = zip(*sorted_zip)\n",
    "plt.figure(figsize=(10,6))\n",
    "plt.scatter(x,y,s=15)\n",
    "plt.plot(x,y_pred,color='r',label='Regresión lineal')\n",
    "plt.plot(x_poly,poly_pred,color='g',label='Regresion polinómica')\n",
    "plt.xlabel('Predicción',fontsize=16)\n",
    "plt.ylabel('Escala',fontsize=16)\n",
    "plt.legend()\n",
    "plt.show()"
   ]
  }
 ],
 "metadata": {
  "language_info": {
   "name": "python"
  },
  "orig_nbformat": 4
 },
 "nbformat": 4,
 "nbformat_minor": 2
}
