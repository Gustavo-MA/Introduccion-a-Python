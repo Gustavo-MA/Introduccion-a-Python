{
 "cells": [
  {
   "cell_type": "code",
   "execution_count": 1,
   "metadata": {},
   "outputs": [
    {
     "data": {
      "text/plain": [
       "155.0"
      ]
     },
     "execution_count": 1,
     "metadata": {},
     "output_type": "execute_result"
    }
   ],
   "source": [
    "# Función de una sucesión geométrica \n",
    "def sumGeometric(a, r, n): \n",
    "   # Si el radio tiene un valor de uno \n",
    "   if r == 1: \n",
    "      return a * n \n",
    "   # Calcula la suma geométrica cuando el radio es diferente de uno \n",
    "   s = a * (1 - r ** n) / (1 - r) \n",
    "   #regresa el valor de s \n",
    "   return s\n",
    "sumGeometric(5.0,2-0,5.0)"
   ]
  }
 ],
 "metadata": {
  "kernelspec": {
   "display_name": "Python 3.8.10 64-bit",
   "language": "python",
   "name": "python3"
  },
  "language_info": {
   "codemirror_mode": {
    "name": "ipython",
    "version": 3
   },
   "file_extension": ".py",
   "mimetype": "text/x-python",
   "name": "python",
   "nbconvert_exporter": "python",
   "pygments_lexer": "ipython3",
   "version": "3.8.10"
  },
  "orig_nbformat": 4,
  "vscode": {
   "interpreter": {
    "hash": "916dbcbb3f70747c44a77c7bcd40155683ae19c65e1c03b4aa3499c5328201f1"
   }
  }
 },
 "nbformat": 4,
 "nbformat_minor": 2
}
