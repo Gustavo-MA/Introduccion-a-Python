{
 "cells": [
  {
   "cell_type": "code",
   "execution_count": 4,
   "metadata": {},
   "outputs": [
    {
     "name": "stdout",
     "output_type": "stream",
     "text": [
      "********************\n",
      "*                  *\n",
      "*                  *\n",
      "*                  *\n",
      "*                  *\n",
      "*                  *\n",
      "*                  *\n",
      "*                  *\n",
      "*                  *\n",
      "********************\n"
     ]
    }
   ],
   "source": [
    "# La función se llama “dibujo”, dibuja un rectángulo y las variables (parámetros) que solicita son el ancho y el alto de la figura \n",
    "def dibujo(width, height): \n",
    "   # se utiliza una estructura de control. \n",
    "   if width < 10 or height < 10: \n",
    "      print(\"Error: La figura es muy pequeña o muy grande.\") \n",
    "      quit() \n",
    "   # Dibuja la parte superior de la figura \n",
    "   print(\"*\" * width) \n",
    "   # Dibuja los lados, en este caso se utiliza un bucle para el valor del alto de la figura \n",
    "   for i in range(height - 2): \n",
    "      print(\"*\" + \" \" * (width - 2) + \"*\") \n",
    "   # Dibuja la parte inferior \n",
    "   print(\"*\" * width)\n",
    "dibujo(20, 10)"
   ]
  }
 ],
 "metadata": {
  "kernelspec": {
   "display_name": "Python 3.8.10 64-bit",
   "language": "python",
   "name": "python3"
  },
  "language_info": {
   "codemirror_mode": {
    "name": "ipython",
    "version": 3
   },
   "file_extension": ".py",
   "mimetype": "text/x-python",
   "name": "python",
   "nbconvert_exporter": "python",
   "pygments_lexer": "ipython3",
   "version": "3.8.10"
  },
  "orig_nbformat": 4,
  "vscode": {
   "interpreter": {
    "hash": "916dbcbb3f70747c44a77c7bcd40155683ae19c65e1c03b4aa3499c5328201f1"
   }
  }
 },
 "nbformat": 4,
 "nbformat_minor": 2
}
