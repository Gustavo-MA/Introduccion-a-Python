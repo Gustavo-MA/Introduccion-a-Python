{
 "cells": [
  {
   "cell_type": "code",
   "execution_count": 5,
   "metadata": {},
   "outputs": [
    {
     "name": "stdout",
     "output_type": "stream",
     "text": [
      "Este número es cero\n"
     ]
    }
   ],
   "source": [
    "# Solicita un número \n",
    "num = float(input(\"Ingresa un número: \")) \n",
    "# condición uno \n",
    "if num > 0: \n",
    "    adjective = \" \" \n",
    "if num >= 1000000: \n",
    "    adjective = \" muy grande \" \n",
    "elif num >= 1000: \n",
    "    adjective = \" grande \" \n",
    "# El resultado es una cadena con el adjetivo y el tipo de número \n",
    "    result = \"Es realmente un número\" + adjective + \"y positivo\" \n",
    "elif num < 0: \n",
    "    result = \"Es un número negativo\" \n",
    "else: \n",
    "    result = \"Este número es cero\" \n",
    "# Imprime el resultado \n",
    "print(result) "
   ]
  }
 ],
 "metadata": {
  "kernelspec": {
   "display_name": "Python 3.8.10 64-bit",
   "language": "python",
   "name": "python3"
  },
  "language_info": {
   "codemirror_mode": {
    "name": "ipython",
    "version": 3
   },
   "file_extension": ".py",
   "mimetype": "text/x-python",
   "name": "python",
   "nbconvert_exporter": "python",
   "pygments_lexer": "ipython3",
   "version": "3.8.10"
  },
  "orig_nbformat": 4,
  "vscode": {
   "interpreter": {
    "hash": "916dbcbb3f70747c44a77c7bcd40155683ae19c65e1c03b4aa3499c5328201f1"
   }
  }
 },
 "nbformat": 4,
 "nbformat_minor": 2
}
