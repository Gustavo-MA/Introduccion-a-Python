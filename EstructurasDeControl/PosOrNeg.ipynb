{
 "cells": [
  {
   "cell_type": "code",
   "execution_count": 3,
   "metadata": {},
   "outputs": [
    {
     "name": "stdout",
     "output_type": "stream",
     "text": [
      "El número es cero\n"
     ]
    }
   ],
   "source": [
    "# Lee un número  \n",
    "num = float(input(\"Ingresa un número: \")) \n",
    "# El resultado se almacena en una variable llamada result \n",
    "if num > 0: \n",
    "    result = \"El número es positivo\" \n",
    "elif num < 0: \n",
    "    result = \"El número es negativo\" \n",
    "else: \n",
    "    result = \"El número es cero\" \n",
    "print(result)"
   ]
  }
 ],
 "metadata": {
  "kernelspec": {
   "display_name": "Python 3.8.10 64-bit",
   "language": "python",
   "name": "python3"
  },
  "language_info": {
   "codemirror_mode": {
    "name": "ipython",
    "version": 3
   },
   "file_extension": ".py",
   "mimetype": "text/x-python",
   "name": "python",
   "nbconvert_exporter": "python",
   "pygments_lexer": "ipython3",
   "version": "3.8.10"
  },
  "orig_nbformat": 4,
  "vscode": {
   "interpreter": {
    "hash": "916dbcbb3f70747c44a77c7bcd40155683ae19c65e1c03b4aa3499c5328201f1"
   }
  }
 },
 "nbformat": 4,
 "nbformat_minor": 2
}
