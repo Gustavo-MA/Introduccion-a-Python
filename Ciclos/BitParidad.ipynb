{
 "cells": [
  {
   "cell_type": "code",
   "execution_count": 2,
   "metadata": {},
   "outputs": [
    {
     "name": "stdout",
     "output_type": "stream",
     "text": [
      "El bit de paridad debe de ser 0.\n",
      "El bit de paridad debe de ser 0.\n",
      "El bit de paridad debe de ser 0.\n",
      "El bit de paridad debe de ser 0.\n"
     ]
    }
   ],
   "source": [
    "line = input(\"Ingresa 8 bits (ceros y unos) \") \n",
    "# Inicia el bucle hasta encontrar un espacio en blanco \n",
    "while line != \"\": \n",
    "    # Condición que asegura que tiene exactamente 8 ceros y unos  \n",
    "    if line.count(\"0\") + line.count(\"1\") != 8 or len(line) != 8: \n",
    "        # Si es diferente de ocho, intenta de nuevo \n",
    "        print(\"no son ocho bits\") \n",
    "    else: \n",
    "        # Cuenta los unos \n",
    "        ones = line.count(\"1\") \n",
    "        # Este conteo regresa el número de veces que aparece el uno en la cadena de ocho bits \n",
    "        # despliega el bit de paridad \n",
    "        if ones % 2 == 0: \n",
    "            print(\"El bit de paridad debe de ser 0.\") \n",
    "        else: \n",
    "            print(\"El bit de paridad debe de ser 1.\") \n",
    "    # Lee la siguiente cadena de bits \n",
    "    line = input(\"Enter 8 bits: \")"
   ]
  }
 ],
 "metadata": {
  "kernelspec": {
   "display_name": "Python 3.8.10 64-bit",
   "language": "python",
   "name": "python3"
  },
  "language_info": {
   "codemirror_mode": {
    "name": "ipython",
    "version": 3
   },
   "file_extension": ".py",
   "mimetype": "text/x-python",
   "name": "python",
   "nbconvert_exporter": "python",
   "pygments_lexer": "ipython3",
   "version": "3.8.10"
  },
  "orig_nbformat": 4,
  "vscode": {
   "interpreter": {
    "hash": "916dbcbb3f70747c44a77c7bcd40155683ae19c65e1c03b4aa3499c5328201f1"
   }
  }
 },
 "nbformat": 4,
 "nbformat_minor": 2
}
